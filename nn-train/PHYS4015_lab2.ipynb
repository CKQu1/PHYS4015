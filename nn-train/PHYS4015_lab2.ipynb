{
 "cells": [
  {
   "cell_type": "markdown",
   "metadata": {},
   "source": [
    "# PHYS4015 Lab 2"
   ]
  },
  {
   "cell_type": "code",
   "execution_count": 1,
   "metadata": {},
   "outputs": [],
   "source": [
    "from __future__ import print_function\n",
    "import torch\n",
    "import os\n",
    "import random\n",
    "import numpy as np\n",
    "import argparse\n",
    "import scipy.io as sio\n",
    "import math\n",
    "\n",
    "import torch.nn as nn\n",
    "import torch.nn.init as init\n",
    "import torch.optim as optim\n",
    "import torch.nn.functional as F\n",
    "import torch.backends.cudnn as cudnn\n",
    "from torch.autograd import Variable\n",
    "import torch.nn.parallel\n",
    "import torchvision\n",
    "\n",
    "import matplotlib.pyplot as plt"
   ]
  },
  {
   "cell_type": "code",
   "execution_count": 2,
   "metadata": {},
   "outputs": [],
   "source": [
    "import sys\n",
    "# add full path of nn-train\n",
    "main_path = os.getcwd()\n",
    "path = f\"{main_path}\\\\nn-train\"\n",
    "sys.path.append(path)"
   ]
  },
  {
   "cell_type": "markdown",
   "metadata": {},
   "source": [
    "## 2.0 Identifying the problem"
   ]
  },
  {
   "cell_type": "code",
   "execution_count": 3,
   "metadata": {},
   "outputs": [
    {
     "name": "stderr",
     "output_type": "stream",
     "text": [
      "c:\\ProgramData\\Anaconda3\\lib\\site-packages\\torchvision\\datasets\\mnist.py:498: UserWarning: The given NumPy array is not writeable, and PyTorch does not support non-writeable tensors. This means you can write to the underlying (supposedly non-writeable) NumPy array using the tensor. You may want to copy the array to protect its data or make it writeable before converting it to a tensor. This type of warning will be suppressed for the rest of this program. (Triggered internally at  ..\\torch\\csrc\\utils\\tensor_numpy.cpp:180.)\n",
      "  return torch.from_numpy(parsed.astype(m[2], copy=False)).view(*s)\n"
     ]
    }
   ],
   "source": [
    "batch_size_train = 1024\n",
    "train_loader = torch.utils.data.DataLoader(\n",
    "  torchvision.datasets.MNIST('data/', train=True, download=True,\n",
    "                             transform=torchvision.transforms.Compose([\n",
    "                               torchvision.transforms.ToTensor(),\n",
    "                               torchvision.transforms.Normalize(\n",
    "                                 (0.1307,), (0.3081,))\n",
    "                             ])),\n",
    "  batch_size=batch_size_train, shuffle=True)\n",
    "images, labels = next(iter(train_loader))\n"
   ]
  },
  {
   "cell_type": "code",
   "execution_count": 4,
   "metadata": {},
   "outputs": [
    {
     "data": {
      "text/plain": [
       "Text(0.5, 1.0, 'Label: 8')"
      ]
     },
     "execution_count": 4,
     "metadata": {},
     "output_type": "execute_result"
    },
    {
     "data": {
      "image/png": "[encoded data removed]",
      "text/plain": [
       "<Figure size 432x288 with 1 Axes>"
      ]
     },
     "metadata": {
      "needs_background": "light"
     },
     "output_type": "display_data"
    }
   ],
   "source": [
    "# images\n",
    "idx = 2\n",
    "plt.imshow(images[idx].reshape(28,28), cmap=\"gray\")\n",
    "plt.title(f\"Label: {labels[idx]}\")"
   ]
  },
  {
   "cell_type": "markdown",
   "metadata": {},
   "source": [
    "## 2.1 Calling Network"
   ]
  },
  {
   "cell_type": "code",
   "execution_count": 5,
   "metadata": {},
   "outputs": [],
   "source": [
    "from train_stuff.model_loader import load"
   ]
  },
  {
   "cell_type": "code",
   "execution_count": 6,
   "metadata": {},
   "outputs": [
    {
     "name": "stdout",
     "output_type": "stream",
     "text": [
      "FullyConnected(\n",
      "  (fc): Sequential(\n",
      "    (0): Linear(in_features=784, out_features=100, bias=False)\n",
      "    (1): ReLU(inplace=True)\n",
      "    (2): Linear(in_features=100, out_features=10, bias=False)\n",
      "  )\n",
      ")\n"
     ]
    }
   ],
   "source": [
    "net = load('fc2')\n",
    "print(net)"
   ]
  },
  {
   "cell_type": "code",
   "execution_count": 7,
   "metadata": {},
   "outputs": [
    {
     "data": {
      "text/plain": [
       "'fc.2.weight'"
      ]
     },
     "execution_count": 7,
     "metadata": {},
     "output_type": "execute_result"
    }
   ],
   "source": [
    "weights = net.state_dict()\n",
    "layers = list(net.state_dict().keys())\n",
    "layers[1]\n",
    " "
   ]
  },
  {
   "cell_type": "markdown",
   "metadata": {},
   "source": [
    "## 2.2 Loading Weights"
   ]
  },
  {
   "cell_type": "code",
   "execution_count": 8,
   "metadata": {},
   "outputs": [],
   "source": [
    "# to train network, run \"python main.py\" in the terminal\n",
    "\n",
    "trained_nets = f\"{path}/trained_nets\"\n",
    "net_ls = [net[0] for net in os.walk(trained_nets)]"
   ]
  },
  {
   "cell_type": "code",
   "execution_count": 9,
   "metadata": {},
   "outputs": [
    {
     "data": {
      "text/plain": [
       "'c:\\\\Users\\\\Kevin Qu\\\\Dropbox (Sydney Uni)\\\\Research_all\\\\Lecturing\\\\PHYS4015\\\\Labs\\\\nn-train/trained_nets\\\\fc2_epoch10_lr=0.1_bs=1024'"
      ]
     },
     "execution_count": 9,
     "metadata": {},
     "output_type": "execute_result"
    }
   ],
   "source": [
    "net_ls[1]"
   ]
  },
  {
   "cell_type": "code",
   "execution_count": 10,
   "metadata": {},
   "outputs": [],
   "source": [
    "folder_name = net_ls[1]\n",
    "sub_weights = sio.loadmat(f\"{folder_name}/model_1_sub_loss_w.mat\")\n",
    "weights = sub_weights['sub_weights'][0]"
   ]
  },
  {
   "cell_type": "code",
   "execution_count": 11,
   "metadata": {},
   "outputs": [
    {
     "data": {
      "text/plain": [
       "2"
      ]
     },
     "execution_count": 11,
     "metadata": {},
     "output_type": "execute_result"
    }
   ],
   "source": [
    "len(weights)"
   ]
  },
  {
   "cell_type": "code",
   "execution_count": 12,
   "metadata": {},
   "outputs": [
    {
     "data": {
      "text/plain": [
       "array([[ 0.02688497,  0.01193325,  0.0189219 , ..., -0.01734629,\n",
       "        -0.03632839,  0.02071006],\n",
       "       [ 0.0210528 , -0.00875142, -0.03306577, ..., -0.01654344,\n",
       "        -0.02464799, -0.03353978],\n",
       "       [ 0.03001465, -0.00288864,  0.02077006, ..., -0.02982154,\n",
       "        -0.00045312, -0.00042258],\n",
       "       ...,\n",
       "       [-0.01856406,  0.01115209, -0.02962813, ..., -0.02621236,\n",
       "        -0.02706588, -0.01760997],\n",
       "       [ 0.00185332,  0.0092824 , -0.00945008, ...,  0.01136091,\n",
       "         0.02750508, -0.00375697],\n",
       "       [-0.01981592, -0.02280488, -0.01763484, ...,  0.02635565,\n",
       "        -0.02539263, -0.03230671]], dtype=float32)"
      ]
     },
     "execution_count": 12,
     "metadata": {},
     "output_type": "execute_result"
    }
   ],
   "source": [
    "weights[0]"
   ]
  },
  {
   "cell_type": "code",
   "execution_count": 13,
   "metadata": {},
   "outputs": [],
   "source": [
    "net_weights = net.state_dict()\n",
    "layers = list(net.state_dict().keys())\n",
    " "
   ]
  },
  {
   "cell_type": "code",
   "execution_count": 14,
   "metadata": {},
   "outputs": [
    {
     "data": {
      "text/plain": [
       "torch.Size([100, 784])"
      ]
     },
     "execution_count": 14,
     "metadata": {},
     "output_type": "execute_result"
    }
   ],
   "source": [
    "net_weights[layers[0]].shape"
   ]
  },
  {
   "cell_type": "code",
   "execution_count": 15,
   "metadata": {},
   "outputs": [
    {
     "data": {
      "text/plain": [
       "torch.Tensor"
      ]
     },
     "execution_count": 15,
     "metadata": {},
     "output_type": "execute_result"
    }
   ],
   "source": [
    "w_tensor0 = torch.from_numpy(weights[0])\n",
    "type(w_tensor0)"
   ]
  },
  {
   "cell_type": "code",
   "execution_count": 16,
   "metadata": {},
   "outputs": [],
   "source": [
    "net_weights[layers[0]] = w_tensor0"
   ]
  },
  {
   "cell_type": "code",
   "execution_count": 17,
   "metadata": {},
   "outputs": [
    {
     "data": {
      "text/plain": [
       "tensor([[ 0.0269,  0.0119,  0.0189,  ..., -0.0173, -0.0363,  0.0207],\n",
       "        [ 0.0211, -0.0088, -0.0331,  ..., -0.0165, -0.0246, -0.0335],\n",
       "        [ 0.0300, -0.0029,  0.0208,  ..., -0.0298, -0.0005, -0.0004],\n",
       "        ...,\n",
       "        [-0.0186,  0.0112, -0.0296,  ..., -0.0262, -0.0271, -0.0176],\n",
       "        [ 0.0019,  0.0093, -0.0095,  ...,  0.0114,  0.0275, -0.0038],\n",
       "        [-0.0198, -0.0228, -0.0176,  ...,  0.0264, -0.0254, -0.0323]])"
      ]
     },
     "execution_count": 17,
     "metadata": {},
     "output_type": "execute_result"
    }
   ],
   "source": [
    "net_weights[layers[0]]"
   ]
  },
  {
   "cell_type": "code",
   "execution_count": 18,
   "metadata": {},
   "outputs": [
    {
     "data": {
      "text/plain": [
       "array([[ 0.02688497,  0.01193325,  0.0189219 , ..., -0.01734629,\n",
       "        -0.03632839,  0.02071006],\n",
       "       [ 0.0210528 , -0.00875142, -0.03306577, ..., -0.01654344,\n",
       "        -0.02464799, -0.03353978],\n",
       "       [ 0.03001465, -0.00288864,  0.02077006, ..., -0.02982154,\n",
       "        -0.00045312, -0.00042258],\n",
       "       ...,\n",
       "       [-0.01856406,  0.01115209, -0.02962813, ..., -0.02621236,\n",
       "        -0.02706588, -0.01760997],\n",
       "       [ 0.00185332,  0.0092824 , -0.00945008, ...,  0.01136091,\n",
       "         0.02750508, -0.00375697],\n",
       "       [-0.01981592, -0.02280488, -0.01763484, ...,  0.02635565,\n",
       "        -0.02539263, -0.03230671]], dtype=float32)"
      ]
     },
     "execution_count": 18,
     "metadata": {},
     "output_type": "execute_result"
    }
   ],
   "source": [
    "weights[0]"
   ]
  },
  {
   "cell_type": "code",
   "execution_count": 19,
   "metadata": {},
   "outputs": [
    {
     "name": "stdout",
     "output_type": "stream",
     "text": [
      "FullyConnected(\n",
      "  (fc): Sequential(\n",
      "    (0): Linear(in_features=784, out_features=100, bias=False)\n",
      "    (1): ReLU(inplace=True)\n",
      "    (2): Linear(in_features=100, out_features=10, bias=False)\n",
      "  )\n",
      ")\n"
     ]
    }
   ],
   "source": [
    "net = load('fc2')\n",
    "print(net)"
   ]
  },
  {
   "cell_type": "code",
   "execution_count": 20,
   "metadata": {},
   "outputs": [
    {
     "data": {
      "text/plain": [
       "tensor([[ 0.0269,  0.0119,  0.0189,  ..., -0.0173, -0.0363,  0.0207],\n",
       "        [ 0.0211, -0.0088, -0.0331,  ..., -0.0165, -0.0246, -0.0335],\n",
       "        [ 0.0300, -0.0029,  0.0208,  ..., -0.0298, -0.0005, -0.0004],\n",
       "        ...,\n",
       "        [-0.0186,  0.0112, -0.0296,  ..., -0.0262, -0.0271, -0.0176],\n",
       "        [ 0.0019,  0.0093, -0.0095,  ...,  0.0114,  0.0275, -0.0038],\n",
       "        [-0.0198, -0.0228, -0.0176,  ...,  0.0264, -0.0254, -0.0323]])"
      ]
     },
     "execution_count": 20,
     "metadata": {},
     "output_type": "execute_result"
    }
   ],
   "source": [
    "net_weights[layers[0]]"
   ]
  },
  {
   "cell_type": "code",
   "execution_count": 21,
   "metadata": {},
   "outputs": [
    {
     "data": {
      "text/plain": [
       "tensor([[ 0.0269,  0.0119,  0.0189,  ..., -0.0173, -0.0363,  0.0207],\n",
       "        [ 0.0211, -0.0088, -0.0331,  ..., -0.0165, -0.0246, -0.0335],\n",
       "        [ 0.0300, -0.0029,  0.0208,  ..., -0.0298, -0.0005, -0.0004],\n",
       "        ...,\n",
       "        [-0.0186,  0.0112, -0.0296,  ..., -0.0262, -0.0271, -0.0176],\n",
       "        [ 0.0019,  0.0093, -0.0095,  ...,  0.0114,  0.0275, -0.0038],\n",
       "        [-0.0198, -0.0228, -0.0176,  ...,  0.0264, -0.0254, -0.0323]])"
      ]
     },
     "execution_count": 21,
     "metadata": {},
     "output_type": "execute_result"
    }
   ],
   "source": [
    "net.state_dict()[layers[0]].data.copy_(torch.from_numpy(weights[0]))"
   ]
  },
  {
   "cell_type": "markdown",
   "metadata": {},
   "source": [
    "## 2.3 Plotting accuracy"
   ]
  },
  {
   "cell_type": "code",
   "execution_count": 22,
   "metadata": {},
   "outputs": [],
   "source": [
    "folder_name = net_ls[1]\n",
    "acc_loss = sio.loadmat(f\"{folder_name}/fc2_loss_log.mat\")"
   ]
  },
  {
   "cell_type": "code",
   "execution_count": 23,
   "metadata": {},
   "outputs": [
    {
     "data": {
      "text/plain": [
       "array([[ 0.36634788, 90.13      ],\n",
       "       [ 0.30430829, 91.41      ],\n",
       "       [ 0.26772168, 92.38      ],\n",
       "       [ 0.24493462, 92.85      ],\n",
       "       [ 0.22574834, 93.61      ],\n",
       "       [ 0.21196934, 93.89      ],\n",
       "       [ 0.1985233 , 94.08      ],\n",
       "       [ 0.18361234, 94.59      ],\n",
       "       [ 0.17677881, 94.9       ],\n",
       "       [ 0.16713383, 95.03      ]])"
      ]
     },
     "execution_count": 23,
     "metadata": {},
     "output_type": "execute_result"
    }
   ],
   "source": [
    "acc_loss['testing_history']"
   ]
  },
  {
   "cell_type": "code",
   "execution_count": 24,
   "metadata": {},
   "outputs": [
    {
     "data": {
      "image/png": "[encoded data removed]",
      "text/plain": [
       "<Figure size 432x288 with 1 Axes>"
      ]
     },
     "metadata": {
      "needs_background": "light"
     },
     "output_type": "display_data"
    }
   ],
   "source": [
    "plt.plot(list(range(1,11)),acc_loss['testing_history'][:,0],label='test loss')\n",
    "plt.plot(list(range(1,11)),acc_loss['testing_history'][:,1],label='test acc')\n",
    "plt.legend()\n",
    "plt.show()"
   ]
  },
  {
   "cell_type": "code",
   "execution_count": 25,
   "metadata": {},
   "outputs": [
    {
     "data": {
      "image/png": "[encoded data removed]",
      "text/plain": [
       "<Figure size 432x288 with 1 Axes>"
      ]
     },
     "metadata": {
      "needs_background": "light"
     },
     "output_type": "display_data"
    }
   ],
   "source": [
    "plt.plot(list(range(1,11)),acc_loss['training_history'][:,0],label='test loss')\n",
    "plt.plot(list(range(1,11)),acc_loss['training_history'][:,1],label='test acc')\n",
    "plt.legend()\n",
    "plt.show()"
   ]
  },
  {
   "cell_type": "markdown",
   "metadata": {},
   "source": [
    "## References"
   ]
  },
  {
   "cell_type": "markdown",
   "metadata": {},
   "source": [
    "1. https://distill.pub/2017/momentum/\n",
    "2. https://ruder.io/optimizing-gradient-descent/\n",
    "3. https://medium.com/mdr-inc/from-sgd-to-adam-c9fce513c4bb\n",
    "4. https://towardsdatascience.com/a-visual-explanation-of-gradient-descent-methods-momentum-adagrad-rmsprop-adam-f898b102325c"
   ]
  }
 ],
 "metadata": {
  "kernelspec": {
   "display_name": "Python 3.7.10 ('base')",
   "language": "python",
   "name": "python3"
  },
  "language_info": {
   "codemirror_mode": {
    "name": "ipython",
    "version": 3
   },
   "file_extension": ".py",
   "mimetype": "text/x-python",
   "name": "python",
   "nbconvert_exporter": "python",
   "pygments_lexer": "ipython3",
   "version": "3.7.10"
  },
  "orig_nbformat": 4,
  "vscode": {
   "interpreter": {
    "hash": "ad2bdc8ecc057115af97d19610ffacc2b4e99fae6737bb82f5d7fb13d2f2c186"
   }
  }
 },
 "nbformat": 4,
 "nbformat_minor": 2
}
